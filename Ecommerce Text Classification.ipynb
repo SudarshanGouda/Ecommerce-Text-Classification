{
 "cells": [
  {
   "cell_type": "markdown",
   "id": "23b4d5b6",
   "metadata": {},
   "source": [
    "# Ecommerce Text Classification"
   ]
  },
  {
   "cell_type": "code",
   "execution_count": 258,
   "id": "5851e143",
   "metadata": {},
   "outputs": [],
   "source": [
    "import numpy as np\n",
    "import pandas as pd\n",
    "import matplotlib.pyplot as plt\n",
    "import seaborn as sns\n",
    "import warnings\n",
    "warnings.filterwarnings('ignore')"
   ]
  },
  {
   "cell_type": "code",
   "execution_count": 259,
   "id": "64444e18",
   "metadata": {},
   "outputs": [],
   "source": [
    "from tensorflow.keras.preprocessing.text import Tokenizer\n",
    "from tensorflow.keras.preprocessing.sequence import pad_sequences\n",
    "from tensorflow.keras import Sequential\n",
    "from tensorflow.keras.layers import Input,Dense,LSTM,Embedding,GlobalMaxPool1D,GRU\n",
    "from nltk.stem import WordNetLemmatizer"
   ]
  },
  {
   "cell_type": "markdown",
   "id": "839a5aeb",
   "metadata": {},
   "source": [
    "### Importing Data"
   ]
  },
  {
   "cell_type": "code",
   "execution_count": 260,
   "id": "3433d1a8",
   "metadata": {},
   "outputs": [],
   "source": [
    "df=pd.read_csv('ecommerceDataset.csv',header=None)\n",
    "df.rename(columns={0:'Class', 1: 'Description'}, inplace=True)"
   ]
  },
  {
   "cell_type": "code",
   "execution_count": 261,
   "id": "86a5955c",
   "metadata": {
    "scrolled": true
   },
   "outputs": [
    {
     "data": {
      "text/html": [
       "<div>\n",
       "<style scoped>\n",
       "    .dataframe tbody tr th:only-of-type {\n",
       "        vertical-align: middle;\n",
       "    }\n",
       "\n",
       "    .dataframe tbody tr th {\n",
       "        vertical-align: top;\n",
       "    }\n",
       "\n",
       "    .dataframe thead th {\n",
       "        text-align: right;\n",
       "    }\n",
       "</style>\n",
       "<table border=\"1\" class=\"dataframe\">\n",
       "  <thead>\n",
       "    <tr style=\"text-align: right;\">\n",
       "      <th></th>\n",
       "      <th>Class</th>\n",
       "      <th>Description</th>\n",
       "    </tr>\n",
       "  </thead>\n",
       "  <tbody>\n",
       "    <tr>\n",
       "      <th>0</th>\n",
       "      <td>Household</td>\n",
       "      <td>Paper Plane Design Framed Wall Hanging Motivat...</td>\n",
       "    </tr>\n",
       "    <tr>\n",
       "      <th>1</th>\n",
       "      <td>Household</td>\n",
       "      <td>SAF 'Floral' Framed Painting (Wood, 30 inch x ...</td>\n",
       "    </tr>\n",
       "    <tr>\n",
       "      <th>2</th>\n",
       "      <td>Household</td>\n",
       "      <td>SAF 'UV Textured Modern Art Print Framed' Pain...</td>\n",
       "    </tr>\n",
       "    <tr>\n",
       "      <th>3</th>\n",
       "      <td>Household</td>\n",
       "      <td>SAF Flower Print Framed Painting (Synthetic, 1...</td>\n",
       "    </tr>\n",
       "    <tr>\n",
       "      <th>4</th>\n",
       "      <td>Household</td>\n",
       "      <td>Incredible Gifts India Wooden Happy Birthday U...</td>\n",
       "    </tr>\n",
       "  </tbody>\n",
       "</table>\n",
       "</div>"
      ],
      "text/plain": [
       "       Class                                        Description\n",
       "0  Household  Paper Plane Design Framed Wall Hanging Motivat...\n",
       "1  Household  SAF 'Floral' Framed Painting (Wood, 30 inch x ...\n",
       "2  Household  SAF 'UV Textured Modern Art Print Framed' Pain...\n",
       "3  Household  SAF Flower Print Framed Painting (Synthetic, 1...\n",
       "4  Household  Incredible Gifts India Wooden Happy Birthday U..."
      ]
     },
     "execution_count": 261,
     "metadata": {},
     "output_type": "execute_result"
    }
   ],
   "source": [
    "df.head()"
   ]
  },
  {
   "cell_type": "code",
   "execution_count": 262,
   "id": "878dbfdc",
   "metadata": {},
   "outputs": [],
   "source": [
    "df = df.sample(frac=1)"
   ]
  },
  {
   "cell_type": "code",
   "execution_count": 263,
   "id": "0d22f7d2",
   "metadata": {},
   "outputs": [
    {
     "name": "stdout",
     "output_type": "stream",
     "text": [
      "<class 'pandas.core.frame.DataFrame'>\n",
      "Int64Index: 50425 entries, 40926 to 13755\n",
      "Data columns (total 2 columns):\n",
      " #   Column       Non-Null Count  Dtype \n",
      "---  ------       --------------  ----- \n",
      " 0   Class        50425 non-null  object\n",
      " 1   Description  50424 non-null  object\n",
      "dtypes: object(2)\n",
      "memory usage: 1.2+ MB\n"
     ]
    }
   ],
   "source": [
    "df.info()"
   ]
  },
  {
   "cell_type": "code",
   "execution_count": 264,
   "id": "4e58e2d2",
   "metadata": {},
   "outputs": [
    {
     "data": {
      "text/plain": [
       "Class          0\n",
       "Description    1\n",
       "dtype: int64"
      ]
     },
     "execution_count": 264,
     "metadata": {},
     "output_type": "execute_result"
    }
   ],
   "source": [
    "df.isna().sum()"
   ]
  },
  {
   "cell_type": "code",
   "execution_count": 265,
   "id": "567c5733",
   "metadata": {},
   "outputs": [],
   "source": [
    "df=df.dropna()"
   ]
  },
  {
   "cell_type": "code",
   "execution_count": 266,
   "id": "5fabe93f",
   "metadata": {},
   "outputs": [
    {
     "data": {
      "text/plain": [
       "Class          0\n",
       "Description    0\n",
       "dtype: int64"
      ]
     },
     "execution_count": 266,
     "metadata": {},
     "output_type": "execute_result"
    }
   ],
   "source": [
    "df.isna().sum()"
   ]
  },
  {
   "cell_type": "markdown",
   "id": "7a42dfe1",
   "metadata": {},
   "source": [
    "### Processing of Data"
   ]
  },
  {
   "cell_type": "code",
   "execution_count": 267,
   "id": "84478bde",
   "metadata": {},
   "outputs": [
    {
     "data": {
      "text/plain": [
       "<AxesSubplot:xlabel='Class', ylabel='count'>"
      ]
     },
     "execution_count": 267,
     "metadata": {},
     "output_type": "execute_result"
    },
    {
     "data": {
      "image/png": "[encoded data removed]",
      "text/plain": [
       "<Figure size 792x288 with 1 Axes>"
      ]
     },
     "metadata": {},
     "output_type": "display_data"
    }
   ],
   "source": [
    "sns.set_style(\"whitegrid\")\n",
    "sns.set(rc={'figure.figsize':(11,4)})\n",
    "sns.countplot(df['Class'])"
   ]
  },
  {
   "cell_type": "code",
   "execution_count": 268,
   "id": "28e8b898",
   "metadata": {},
   "outputs": [],
   "source": [
    "from sklearn.preprocessing import LabelEncoder\n",
    "\n",
    "label_encoder=LabelEncoder()\n",
    "\n",
    "df['Class']=label_encoder.fit_transform(df['Class'])"
   ]
  },
  {
   "cell_type": "code",
   "execution_count": 269,
   "id": "eb06d3a7",
   "metadata": {},
   "outputs": [
    {
     "data": {
      "text/plain": [
       "array([2, 1, 0, 3])"
      ]
     },
     "execution_count": 269,
     "metadata": {},
     "output_type": "execute_result"
    }
   ],
   "source": [
    "df['Class'].unique()"
   ]
  },
  {
   "cell_type": "code",
   "execution_count": 270,
   "id": "fbf17fff",
   "metadata": {},
   "outputs": [
    {
     "data": {
      "text/plain": [
       "40926    Oxyura All-in-1 Combo Card Reader with 3 Port ...\n",
       "37113    RITU CREATION Women's No Rolling Down Magic Wi...\n",
       "24823    A Brief History of Time: And Other Essays Amaz...\n",
       "29407    All In One Science - Class 10 (2018-19 Session...\n",
       "26666    Think & Grow Rich About the Author NAPOLEON HI...\n",
       "                               ...                        \n",
       "32069    Boys Long Sleeve Hooded Sweatshirt Set Hallowe...\n",
       "8120     Polyset Laundry Basket / Basket with Lid / Bas...\n",
       "15926    Shagun Orthopaedic Dual Comfort ( Hard & Soft ...\n",
       "44050    Pivalo High Intensity Projector Lamp Headlight...\n",
       "13755    Crock-Pot SCR400-B Crock-Pot SCR400-B 4 Quart ...\n",
       "Name: Description, Length: 50424, dtype: object"
      ]
     },
     "execution_count": 270,
     "metadata": {},
     "output_type": "execute_result"
    }
   ],
   "source": [
    "df['Description']"
   ]
  },
  {
   "cell_type": "markdown",
   "id": "2aeb379f",
   "metadata": {},
   "source": [
    "### Replacing punctuations with space"
   ]
  },
  {
   "cell_type": "code",
   "execution_count": 271,
   "id": "5c801fa7",
   "metadata": {},
   "outputs": [],
   "source": [
    "import re\n",
    "\n",
    "def clean_pun(text):\n",
    "    #     remove urls\n",
    "    text = re.sub(r'http\\S+', \" \", text)\n",
    "    #     remove mentions\n",
    "    text = re.sub(r'@\\w+',' ',text)\n",
    "    #     remove hastags\n",
    "    text = re.sub(r'#\\w+', ' ', text)\n",
    "    #     remove digits\n",
    "    text = re.sub(r'\\d+', ' ', text)\n",
    "    #     remove html tags\n",
    "    text = re.sub(\"r<.*?>\",' ', text)\n",
    "    #     removing brackets\n",
    "    text= re.sub(r'[\\([{})\\]]','',text)\n",
    "    \n",
    "    return text"
   ]
  },
  {
   "cell_type": "code",
   "execution_count": 272,
   "id": "69f56d26",
   "metadata": {},
   "outputs": [],
   "source": [
    "df['Description_processed']=df['Description'].apply(lambda x : clean_pun(x))"
   ]
  },
  {
   "cell_type": "code",
   "execution_count": 273,
   "id": "823209ee",
   "metadata": {},
   "outputs": [
    {
     "data": {
      "text/plain": [
       "40926    Oxyura All-in-  Combo Card Reader with   Port ...\n",
       "37113    RITU CREATION Women's No Rolling Down Magic Wi...\n",
       "24823    A Brief History of Time: And Other Essays Amaz...\n",
       "29407    All In One Science - Class    -  Session About...\n",
       "26666    Think & Grow Rich About the Author NAPOLEON HI...\n",
       "                               ...                        \n",
       "32069    Boys Long Sleeve Hooded Sweatshirt Set Hallowe...\n",
       "8120     Polyset Laundry Basket / Basket with Lid / Bas...\n",
       "15926    Shagun Orthopaedic Dual Comfort  Hard & Soft  ...\n",
       "44050    Pivalo High Intensity Projector Lamp Headlight...\n",
       "13755    Crock-Pot SCR -B Crock-Pot SCR -B   Quart Manu...\n",
       "Name: Description_processed, Length: 50424, dtype: object"
      ]
     },
     "execution_count": 273,
     "metadata": {},
     "output_type": "execute_result"
    }
   ],
   "source": [
    "df['Description_processed']"
   ]
  },
  {
   "cell_type": "markdown",
   "id": "8f6e7e17",
   "metadata": {},
   "source": [
    "### Stop word removal"
   ]
  },
  {
   "cell_type": "code",
   "execution_count": 274,
   "id": "ccfbd038",
   "metadata": {},
   "outputs": [],
   "source": [
    "from nltk.corpus import stopwords\n",
    "stop_words = stopwords.words('english')"
   ]
  },
  {
   "cell_type": "code",
   "execution_count": 275,
   "id": "cbdd27e1",
   "metadata": {},
   "outputs": [
    {
     "data": {
      "text/plain": [
       "179"
      ]
     },
     "execution_count": 275,
     "metadata": {},
     "output_type": "execute_result"
    }
   ],
   "source": [
    "len(stop_words)"
   ]
  },
  {
   "cell_type": "code",
   "execution_count": 276,
   "id": "4ad72355",
   "metadata": {},
   "outputs": [
    {
     "name": "stdout",
     "output_type": "stream",
     "text": [
      "Old length:  50424\n"
     ]
    }
   ],
   "source": [
    "print(\"Old length: \", len(df['Description_processed']))"
   ]
  },
  {
   "cell_type": "code",
   "execution_count": 277,
   "id": "d1f9efa4",
   "metadata": {},
   "outputs": [],
   "source": [
    "def clean_text(text):\n",
    "    text=text.split()\n",
    "    text=' '.join([word for word in text if word.lower() not in stop_words])\n",
    "    return text"
   ]
  },
  {
   "cell_type": "code",
   "execution_count": 278,
   "id": "6f1d5cc0",
   "metadata": {},
   "outputs": [],
   "source": [
    "df['Description_processed']=df['Description_processed'].apply(lambda x: clean_text(x))"
   ]
  },
  {
   "cell_type": "code",
   "execution_count": 279,
   "id": "621923d5",
   "metadata": {},
   "outputs": [],
   "source": [
    "#df['Description_processed']=df['Description_processed'].apply(lambda row: ''.join([word for word in row.split() if word.lower() not in stop_words]))"
   ]
  },
  {
   "cell_type": "code",
   "execution_count": 280,
   "id": "b38ccd9e",
   "metadata": {},
   "outputs": [
    {
     "name": "stdout",
     "output_type": "stream",
     "text": [
      "New length:  50424\n"
     ]
    }
   ],
   "source": [
    "print(\"New length: \", len(df['Description_processed']))"
   ]
  },
  {
   "cell_type": "code",
   "execution_count": 281,
   "id": "81d4c106",
   "metadata": {},
   "outputs": [
    {
     "data": {
      "text/html": [
       "<div>\n",
       "<style scoped>\n",
       "    .dataframe tbody tr th:only-of-type {\n",
       "        vertical-align: middle;\n",
       "    }\n",
       "\n",
       "    .dataframe tbody tr th {\n",
       "        vertical-align: top;\n",
       "    }\n",
       "\n",
       "    .dataframe thead th {\n",
       "        text-align: right;\n",
       "    }\n",
       "</style>\n",
       "<table border=\"1\" class=\"dataframe\">\n",
       "  <thead>\n",
       "    <tr style=\"text-align: right;\">\n",
       "      <th></th>\n",
       "      <th>Class</th>\n",
       "      <th>Description</th>\n",
       "      <th>Description_processed</th>\n",
       "    </tr>\n",
       "  </thead>\n",
       "  <tbody>\n",
       "    <tr>\n",
       "      <th>40926</th>\n",
       "      <td>2</td>\n",
       "      <td>Oxyura All-in-1 Combo Card Reader with 3 Port ...</td>\n",
       "      <td>Oxyura All-in- Combo Card Reader Port USB Hub ...</td>\n",
       "    </tr>\n",
       "    <tr>\n",
       "      <th>37113</th>\n",
       "      <td>1</td>\n",
       "      <td>RITU CREATION Women's No Rolling Down Magic Wi...</td>\n",
       "      <td>RITU CREATION Women's Rolling Magic Wire Tummy...</td>\n",
       "    </tr>\n",
       "    <tr>\n",
       "      <th>24823</th>\n",
       "      <td>0</td>\n",
       "      <td>A Brief History of Time: And Other Essays Amaz...</td>\n",
       "      <td>Brief History Time: Essays Amazon.com Review S...</td>\n",
       "    </tr>\n",
       "    <tr>\n",
       "      <th>29407</th>\n",
       "      <td>0</td>\n",
       "      <td>All In One Science - Class 10 (2018-19 Session...</td>\n",
       "      <td>One Science - Class - Session Author editorial...</td>\n",
       "    </tr>\n",
       "    <tr>\n",
       "      <th>26666</th>\n",
       "      <td>0</td>\n",
       "      <td>Think &amp; Grow Rich About the Author NAPOLEON HI...</td>\n",
       "      <td>Think &amp; Grow Rich Author NAPOLEON HILL, born P...</td>\n",
       "    </tr>\n",
       "  </tbody>\n",
       "</table>\n",
       "</div>"
      ],
      "text/plain": [
       "       Class                                        Description  \\\n",
       "40926      2  Oxyura All-in-1 Combo Card Reader with 3 Port ...   \n",
       "37113      1  RITU CREATION Women's No Rolling Down Magic Wi...   \n",
       "24823      0  A Brief History of Time: And Other Essays Amaz...   \n",
       "29407      0  All In One Science - Class 10 (2018-19 Session...   \n",
       "26666      0  Think & Grow Rich About the Author NAPOLEON HI...   \n",
       "\n",
       "                                   Description_processed  \n",
       "40926  Oxyura All-in- Combo Card Reader Port USB Hub ...  \n",
       "37113  RITU CREATION Women's Rolling Magic Wire Tummy...  \n",
       "24823  Brief History Time: Essays Amazon.com Review S...  \n",
       "29407  One Science - Class - Session Author editorial...  \n",
       "26666  Think & Grow Rich Author NAPOLEON HILL, born P...  "
      ]
     },
     "execution_count": 281,
     "metadata": {},
     "output_type": "execute_result"
    }
   ],
   "source": [
    "df.head()"
   ]
  },
  {
   "cell_type": "markdown",
   "id": "3b202cb1",
   "metadata": {},
   "source": [
    "### Splitting the Data"
   ]
  },
  {
   "cell_type": "code",
   "execution_count": 282,
   "id": "afc2b68c",
   "metadata": {},
   "outputs": [],
   "source": [
    "from sklearn.model_selection import train_test_split\n",
    "X=df['Description_processed'][:3000]\n",
    "y=df['Class'][:3000]"
   ]
  },
  {
   "cell_type": "code",
   "execution_count": 283,
   "id": "bfceb7ac",
   "metadata": {},
   "outputs": [],
   "source": [
    "## Just to make computation easy taking 6000 data"
   ]
  },
  {
   "cell_type": "code",
   "execution_count": 284,
   "id": "555e4fe0",
   "metadata": {},
   "outputs": [
    {
     "name": "stdout",
     "output_type": "stream",
     "text": [
      "(3000,)\n",
      "(3000,)\n"
     ]
    }
   ],
   "source": [
    "print(X.shape)\n",
    "print(y.shape)"
   ]
  },
  {
   "cell_type": "code",
   "execution_count": 285,
   "id": "07d92441",
   "metadata": {},
   "outputs": [
    {
     "data": {
      "text/plain": [
       "<AxesSubplot:xlabel='Class', ylabel='count'>"
      ]
     },
     "execution_count": 285,
     "metadata": {},
     "output_type": "execute_result"
    },
    {
     "data": {
      "image/png": "[encoded data removed]",
      "text/plain": [
       "<Figure size 792x288 with 1 Axes>"
      ]
     },
     "metadata": {},
     "output_type": "display_data"
    }
   ],
   "source": [
    "sns.set_style(\"whitegrid\")\n",
    "sns.set(rc={'figure.figsize':(11,4)})\n",
    "sns.countplot(y)"
   ]
  },
  {
   "cell_type": "code",
   "execution_count": 286,
   "id": "63d10d73",
   "metadata": {},
   "outputs": [],
   "source": [
    "X_train, X_test, y_train, y_test = train_test_split(X, y, test_size=0.3, random_state=101)"
   ]
  },
  {
   "cell_type": "markdown",
   "id": "c3b9fc16",
   "metadata": {},
   "source": [
    "## Tokenization"
   ]
  },
  {
   "cell_type": "code",
   "execution_count": 287,
   "id": "1f87604b",
   "metadata": {},
   "outputs": [],
   "source": [
    "lem=WordNetLemmatizer()"
   ]
  },
  {
   "cell_type": "code",
   "execution_count": 288,
   "id": "31786ba7",
   "metadata": {},
   "outputs": [],
   "source": [
    "token=Tokenizer(num_words=20000,oov_token=lem)\n",
    "token.fit_on_texts(X_train)\n",
    "X_train=token.texts_to_sequences(X_train)\n",
    "X_test=token.texts_to_sequences(X_test)"
   ]
  },
  {
   "cell_type": "code",
   "execution_count": 289,
   "id": "31661c2a",
   "metadata": {},
   "outputs": [
    {
     "data": {
      "text/plain": [
       "19613"
      ]
     },
     "execution_count": 289,
     "metadata": {},
     "output_type": "execute_result"
    }
   ],
   "source": [
    "word_to_index=token.word_index\n",
    "len(word_to_index)"
   ]
  },
  {
   "cell_type": "markdown",
   "id": "c4ad74c0",
   "metadata": {},
   "source": [
    "## Padding"
   ]
  },
  {
   "cell_type": "code",
   "execution_count": 290,
   "id": "40a9d63d",
   "metadata": {},
   "outputs": [
    {
     "data": {
      "text/plain": [
       "2969"
      ]
     },
     "execution_count": 290,
     "metadata": {},
     "output_type": "execute_result"
    }
   ],
   "source": [
    "X_train=pad_sequences(X_train,padding='post',truncating='post')\n",
    "T=X_train.shape[1]\n",
    "T"
   ]
  },
  {
   "cell_type": "code",
   "execution_count": 291,
   "id": "98c11c95",
   "metadata": {},
   "outputs": [
    {
     "data": {
      "text/plain": [
       "(900, 2969)"
      ]
     },
     "execution_count": 291,
     "metadata": {},
     "output_type": "execute_result"
    }
   ],
   "source": [
    "X_test=pad_sequences(X_test,maxlen=T,padding='post',truncating='post')\n",
    "X_test.shape"
   ]
  },
  {
   "cell_type": "markdown",
   "id": "60adb254",
   "metadata": {},
   "source": [
    "## LSTM Model"
   ]
  },
  {
   "cell_type": "code",
   "execution_count": 292,
   "id": "fb955418",
   "metadata": {},
   "outputs": [],
   "source": [
    "# ** Embeddindg Dimentionality **\n",
    "\n",
    "D=32\n",
    "\n",
    "# Its an hyper aparameter ( Length of word in sentence want to select)\n",
    "\n",
    "# Hidden state dimentionality (M)\n",
    "\n",
    "M=60\n",
    "\n",
    "# Size of embedding should be (V+1 x D )\n",
    "# Because first index start from 1 not from 0\n",
    "# So if final index of embedding metrix is V then it should be V+1\n",
    "\n",
    "V=len(word_to_index)"
   ]
  },
  {
   "cell_type": "code",
   "execution_count": 293,
   "id": "49261b98",
   "metadata": {},
   "outputs": [],
   "source": [
    "model=Sequential()\n",
    "\n",
    "model.add(Input(shape=(T,)))\n",
    "\n",
    "model.add(Embedding(V+1,D))\n",
    "\n",
    "model.add(LSTM(M,return_sequences=True))\n",
    "\n",
    "model.add(GlobalMaxPool1D())\n",
    "\n",
    "model.add(Dense(M))\n",
    "\n",
    "model.add(Dense(4,activation='softmax'))"
   ]
  },
  {
   "cell_type": "code",
   "execution_count": 294,
   "id": "737189f6",
   "metadata": {},
   "outputs": [],
   "source": [
    "from keras.callbacks import EarlyStopping,ReduceLROnPlateau\n",
    "\n",
    "early_stop=EarlyStopping(monitor='val_accuracy',patience=10)\n",
    "reduceLR=ReduceLROnPlateau(monitor='val_accuarcy',patience=8)"
   ]
  },
  {
   "cell_type": "code",
   "execution_count": 295,
   "id": "54c41e45",
   "metadata": {},
   "outputs": [],
   "source": [
    "model.compile(optimizer='adam',loss='sparse_categorical_crossentropy',metrics=['accuracy'])"
   ]
  },
  {
   "cell_type": "code",
   "execution_count": 296,
   "id": "1fc9a655",
   "metadata": {},
   "outputs": [
    {
     "name": "stdout",
     "output_type": "stream",
     "text": [
      "Epoch 1/3\n",
      "33/33 [==============================] - 187s 6s/step - loss: 1.3445 - accuracy: 0.3757 - val_loss: 1.2940 - val_accuracy: 0.3889\n",
      "Epoch 2/3\n",
      "33/33 [==============================] - 199s 6s/step - loss: 1.1620 - accuracy: 0.4548 - val_loss: 0.9872 - val_accuracy: 0.6133\n",
      "Epoch 3/3\n",
      "33/33 [==============================] - 179s 5s/step - loss: 0.7749 - accuracy: 0.7052 - val_loss: 0.6339 - val_accuracy: 0.8822\n"
     ]
    },
    {
     "data": {
      "text/plain": [
       "<keras.callbacks.History at 0x14514182e80>"
      ]
     },
     "execution_count": 296,
     "metadata": {},
     "output_type": "execute_result"
    }
   ],
   "source": [
    "model.fit(X_train,y_train,validation_data=(X_test,y_test),\n",
    "            epochs=3,batch_size=64,callbacks=[early_stop])"
   ]
  }
 ],
 "metadata": {
  "kernelspec": {
   "display_name": "Python 3 (ipykernel)",
   "language": "python",
   "name": "python3"
  },
  "language_info": {
   "codemirror_mode": {
    "name": "ipython",
    "version": 3
   },
   "file_extension": ".py",
   "mimetype": "text/x-python",
   "name": "python",
   "nbconvert_exporter": "python",
   "pygments_lexer": "ipython3",
   "version": "3.9.12"
  }
 },
 "nbformat": 4,
 "nbformat_minor": 5
}
